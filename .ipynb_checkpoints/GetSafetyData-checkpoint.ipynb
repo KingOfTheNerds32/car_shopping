{
 "cells": [
  {
   "cell_type": "code",
   "execution_count": 1,
   "metadata": {
    "collapsed": true
   },
   "outputs": [],
   "source": [
    "import pandas as pd"
   ]
  },
  {
   "cell_type": "code",
   "execution_count": 2,
   "metadata": {
    "collapsed": true
   },
   "outputs": [],
   "source": [
    "api_root = 'https://one.nhtsa.gov/webapi/api/SafetyRatings'\n",
    "api_format = '?format=csv'\n",
    "api_step = ''\n",
    "\n",
    "def build_api_call(api_root, api_format, api_step = None):\n",
    "    api_call = ''.join([api_root, api_step, api_format])\n",
    "    return api_call.replace(\" \", \"%20\")"
   ]
  },
  {
   "cell_type": "code",
   "execution_count": 3,
   "metadata": {},
   "outputs": [],
   "source": [
    "api_call = build_api_call(api_root, api_format, api_step)\n",
    "model_yrs = pd.read_csv(api_call)"
   ]
  },
  {
   "cell_type": "code",
   "execution_count": 4,
   "metadata": {},
   "outputs": [],
   "source": [
    "min_yr = 2018"
   ]
  },
  {
   "cell_type": "code",
   "execution_count": 5,
   "metadata": {},
   "outputs": [],
   "source": [
    "process_model_yrs = model_yrs[model_yrs.MODEL_YR >= min_yr]"
   ]
  },
  {
   "cell_type": "code",
   "execution_count": 6,
   "metadata": {
    "collapsed": true
   },
   "outputs": [],
   "source": [
    "api_step = '/modelyear/'"
   ]
  },
  {
   "cell_type": "code",
   "execution_count": 7,
   "metadata": {},
   "outputs": [],
   "source": [
    "def build_makes(x, api_step):\n",
    "    api_step = ''.join([api_step, str(x)])\n",
    "    api_call = build_api_call(api_root, api_format, api_step)\n",
    "    return pd.read_csv(api_call)\n",
    "\n",
    "makes = pd.concat(list(process_model_yrs.MODEL_YR.apply(build_makes, args=(api_step,))))"
   ]
  },
  {
   "cell_type": "code",
   "execution_count": 8,
   "metadata": {},
   "outputs": [],
   "source": [
    "def build_model_apis(x):\n",
    "    api_step = ''.join(['/modelyear/', str(x.MODEL_YR), '/make/', x.MAKE])\n",
    "    api_call = build_api_call(api_root, api_format, api_step)\n",
    "    x['api'] = api_call\n",
    "    return x\n",
    "\n",
    "process_makes = makes.apply(build_model_apis, 1)"
   ]
  },
  {
   "cell_type": "code",
   "execution_count": 68,
   "metadata": {
    "collapsed": true
   },
   "outputs": [],
   "source": [
    "def get_model_info(x):\n",
    "    vars_to_keep = ['MODEL_YR', 'MAKE', 'MODEL']\n",
    "    \n",
    "    try:\n",
    "        df = pd.read_csv(x.api)\n",
    "        x['status'] = 'success'\n",
    "        # print ' '.join(['SUCCESS:', str(x.MODEL_YR), str(x.MAKE)])\n",
    "        df = df[vars_to_keep]\n",
    "        x['data'] = df\n",
    "    except:\n",
    "        x['status'] = 'fail'\n",
    "        print ' '.join(['FAIL:', str(x.MODEL_YR), str(x.MAKE)])\n",
    "\n",
    "    return x"
   ]
  },
  {
   "cell_type": "code",
   "execution_count": 69,
   "metadata": {},
   "outputs": [],
   "source": [
    "raw_models = process_makes.apply(get_model_info, 1)"
   ]
  },
  {
   "cell_type": "code",
   "execution_count": 11,
   "metadata": {},
   "outputs": [
    {
     "data": {
      "text/html": [
       "<div>\n",
       "<style>\n",
       "    .dataframe thead tr:only-child th {\n",
       "        text-align: right;\n",
       "    }\n",
       "\n",
       "    .dataframe thead th {\n",
       "        text-align: left;\n",
       "    }\n",
       "\n",
       "    .dataframe tbody tr th {\n",
       "        vertical-align: top;\n",
       "    }\n",
       "</style>\n",
       "<table border=\"1\" class=\"dataframe\">\n",
       "  <thead>\n",
       "    <tr style=\"text-align: right;\">\n",
       "      <th></th>\n",
       "      <th>MODEL_YR</th>\n",
       "      <th>MAKE</th>\n",
       "      <th>MODEL</th>\n",
       "      <th>MMY</th>\n",
       "      <th>VEHICLE_ID</th>\n",
       "      <th>api</th>\n",
       "      <th>status</th>\n",
       "      <th>data</th>\n",
       "    </tr>\n",
       "  </thead>\n",
       "  <tbody>\n",
       "  </tbody>\n",
       "</table>\n",
       "</div>"
      ],
      "text/plain": [
       "Empty DataFrame\n",
       "Columns: [MODEL_YR, MAKE, MODEL, MMY, VEHICLE_ID, api, status, data]\n",
       "Index: []"
      ]
     },
     "execution_count": 11,
     "metadata": {},
     "output_type": "execute_result"
    }
   ],
   "source": [
    "models = pd.concat(list(raw_models.data))\n",
    "raw_models[raw_models.status == 'fail']"
   ]
  },
  {
   "cell_type": "code",
   "execution_count": 12,
   "metadata": {},
   "outputs": [],
   "source": [
    "def build_trim_apis(x):\n",
    "    api_step = ''.join(['/modelyear/', str(x.MODEL_YR), '/make/', x.MAKE, '/model/', str(x.MODEL)])\n",
    "    api_call = build_api_call(api_root, api_format, api_step)\n",
    "    x['api'] = api_call\n",
    "    return x\n",
    "\n",
    "process_models = models.apply(build_trim_apis, 1)"
   ]
  },
  {
   "cell_type": "code",
   "execution_count": 83,
   "metadata": {
    "collapsed": true
   },
   "outputs": [],
   "source": [
    "def get_trim_info(x):\n",
    "    vars_to_keep = ['MODEL_YR', 'MAKE', 'MODEL', 'MMY', 'VEHICLE_ID']\n",
    "    \n",
    "    try:\n",
    "        df = pd.read_csv(x.api)\n",
    "        x['status'] = 'success'\n",
    "        # print ' '.join(['SUCCESS:', str(x.MODEL_YR), str(x.MAKE)])\n",
    "        df = df[vars_to_keep]\n",
    "        df['MAKE'] = x.MAKE\n",
    "        df['MODEL_YR'] = x.MODEL_YR\n",
    "        df['MODEL'] = x.MODEL\n",
    "        x['data'] = df\n",
    "    except:\n",
    "        x['status'] = 'fail'\n",
    "        print ' '.join(['FAIL:', str(x.MODEL_YR), str(x.MAKE), str(x.MODEL)])\n",
    "\n",
    "    return x"
   ]
  },
  {
   "cell_type": "code",
   "execution_count": 87,
   "metadata": {},
   "outputs": [
    {
     "name": "stdout",
     "output_type": "stream",
     "text": [
      "FAIL: 2018 ACURA RLX SPORT HYBRID \n",
      "FAIL: 2018 MERCEDES-BENZ E-CLASS \n",
      "FAIL: 2018 MERCEDES-BENZ S-CLASS \n",
      "FAIL: 2018 PORSCHE MACAN \n"
     ]
    }
   ],
   "source": [
    "raw_trims = process_models.apply(get_trim_info, 1)"
   ]
  },
  {
   "cell_type": "code",
   "execution_count": 107,
   "metadata": {},
   "outputs": [
    {
     "name": "stdout",
     "output_type": "stream",
     "text": [
      "FAIL: 2018 ACURA RLX SPORT HYBRID \n",
      "FAIL: 2018 ACURA RLX SPORT HYBRID \n",
      "FAIL: 2018 MERCEDES-BENZ E-CLASS \n",
      "FAIL: 2018 MERCEDES-BENZ S-CLASS \n",
      "FAIL: 2018 PORSCHE MACAN \n"
     ]
    }
   ],
   "source": [
    "trims = pd.concat(list(raw_trims[raw_trims.status == 'success'].data))\n",
    "failed_models = raw_trims[raw_trims.status == 'fail']\n"
   ]
  },
  {
   "cell_type": "code",
   "execution_count": 110,
   "metadata": {
    "collapsed": true
   },
   "outputs": [],
   "source": [
    "def build_vehicle_apis(x):\n",
    "    api_step = ''.join(['/VehicleId/', str(x.VEHICLE_ID)])\n",
    "    api_call = build_api_call(api_root, api_format, api_step)\n",
    "    x['api'] = api_call\n",
    "    return x\n",
    "\n",
    "process_trims = trims.apply(build_vehicle_apis, 1)"
   ]
  },
  {
   "cell_type": "code",
   "execution_count": 113,
   "metadata": {},
   "outputs": [],
   "source": [
    "def get_vehicle_info(x):\n",
    "    \n",
    "    try:\n",
    "        df = pd.read_csv(x.api)\n",
    "        x['status'] = 'success'\n",
    "        # print ' '.join(['SUCCESS:', str(x.MODEL_YR), str(x.MAKE)])\n",
    "        x['data'] = df\n",
    "    except:\n",
    "        x['status'] = 'fail'\n",
    "        print ' '.join(['FAIL:', str(x.MODEL_YR), str(x.MAKE), str(x.MODEL)])\n",
    "\n",
    "    return x"
   ]
  },
  {
   "cell_type": "code",
   "execution_count": null,
   "metadata": {
    "collapsed": true
   },
   "outputs": [],
   "source": [
    "raw_vehicles = process_trims.apply(get_vehicle_info, 1)"
   ]
  },
  {
   "cell_type": "code",
   "execution_count": 121,
   "metadata": {},
   "outputs": [],
   "source": [
    "vehicles = pd.concat(list(raw_vehicles[raw_vehicles.status == 'success'].data))"
   ]
  },
  {
   "cell_type": "code",
   "execution_count": 126,
   "metadata": {},
   "outputs": [],
   "source": [
    "vehicles.to_csv('vehicle_safety_info.csv')"
   ]
  }
 ],
 "metadata": {
  "kernelspec": {
   "display_name": "Python 2",
   "language": "python",
   "name": "python2"
  },
  "language_info": {
   "codemirror_mode": {
    "name": "ipython",
    "version": 2
   },
   "file_extension": ".py",
   "mimetype": "text/x-python",
   "name": "python",
   "nbconvert_exporter": "python",
   "pygments_lexer": "ipython2",
   "version": "2.7.13"
  }
 },
 "nbformat": 4,
 "nbformat_minor": 2
}
