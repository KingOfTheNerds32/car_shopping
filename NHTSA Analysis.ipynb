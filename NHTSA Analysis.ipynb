{
 "cells": [
  {
   "cell_type": "code",
   "execution_count": 219,
   "metadata": {
    "collapsed": true
   },
   "outputs": [],
   "source": [
    "import pandas as pd"
   ]
  },
  {
   "cell_type": "code",
   "execution_count": 220,
   "metadata": {
    "collapsed": true
   },
   "outputs": [],
   "source": [
    "df = pd.read_csv('vehicle_safety_info.csv')\n",
    "types = pd.read_csv('models.csv')"
   ]
  },
  {
   "cell_type": "code",
   "execution_count": 221,
   "metadata": {
    "collapsed": true
   },
   "outputs": [],
   "source": [
    "stars = pd.Series(df.columns[df.columns.str.contains('STAR')])\n",
    "nhtsa = pd.Series(df.columns[df.columns.str.contains('NHTSA')])\n",
    "other_cols = pd.Series(['MODEL_YR', 'MAKE', 'MODEL', 'MMY', 'VEHICLE_ID'])\n",
    "cols_to_keep = pd.concat([other_cols, stars, nhtsa])\n",
    "\n",
    "df = df[cols_to_keep]"
   ]
  },
  {
   "cell_type": "code",
   "execution_count": 222,
   "metadata": {
    "collapsed": true
   },
   "outputs": [],
   "source": [
    "df = pd.merge(df, types, on = 'MODEL')"
   ]
  },
  {
   "cell_type": "code",
   "execution_count": 223,
   "metadata": {},
   "outputs": [],
   "source": [
    "df = df[(df.OVERALL_FRNT_STARS != 'Not Rated') & (df.OVERALL_STARS != 'Not Rated')]"
   ]
  },
  {
   "cell_type": "code",
   "execution_count": 242,
   "metadata": {},
   "outputs": [],
   "source": [
    "brands_to_keep = ['ACURA', 'AUDI', 'BMW', 'FORD', 'GENESIS', 'HONDA', 'HYUNDAI', 'INFINITI', 'MAZDA', 'MERCEDES-BENZ', 'MINI', 'NISSAN', 'PORSCHE','SUBARU', 'TESLA', 'VOLKSWAGEN', 'VOLVO']\n",
    "types_to_keep = ['SUV', 'Hatch', 'EV']"
   ]
  },
  {
   "cell_type": "code",
   "execution_count": 243,
   "metadata": {},
   "outputs": [
    {
     "name": "stdout",
     "output_type": "stream",
     "text": [
      "REMOVING BRANDS:\n",
      "['DODGE', 'FIAT', 'LINCOLN', 'BUICK', 'JEEP', 'CHEVROLET', 'RAM', 'TOYOTA', 'GMC', 'CHRYSLER', 'CADILLAC', 'KIA', 'MITSUBISHI', 'LEXUS', 'SMART']\n",
      "RULING OUT:\n",
      "      MODEL_YR        MAKE        MODEL\n",
      "60        2017        AUDI           Q5\n",
      "85        2017        AUDI          SQ5\n",
      "416       2018        FORD     CMAX HEV\n",
      "417       2017        FORD     CMAX HEV\n",
      "474       2017        FORD       FIESTA\n",
      "899       2018       MAZDA         CX-5\n",
      "901       2017       MAZDA         CX-5\n",
      "1003      2018        MINI      HARDTOP\n",
      "1005      2017        MINI      HARDTOP\n",
      "1048      2018      NISSAN        ROGUE\n",
      "1050      2017      NISSAN        ROGUE\n",
      "1327      2017  VOLKSWAGEN       TIGUAN\n",
      "1404      2017        FORD  CMAX ENERGI\n",
      "1472      2017      NISSAN       MURANO\n"
     ]
    }
   ],
   "source": [
    "filter_df = df[(df.MAKE.isin(brands_to_keep)) & df.TYPE.isin(types_to_keep)]\n",
    "print 'REMOVING BRANDS:'\n",
    "print list(set(df.MAKE.unique()) - set(brands_to_keep))\n",
    "\n",
    "def cleaner(x):\n",
    "    x = pd.to_numeric(x, errors = 'ignore')\n",
    "    return x\n",
    "    \n",
    "filter_df = filter_df.apply(cleaner, 0)\n",
    "\n",
    "min_stars = 5\n",
    "\n",
    "# CONSOLIDATE VEHICLES WHERE RATINGS ARE IDENTICAL ACROSS TRIMS\n",
    "cols = filter_df.columns.drop(['VEHICLE_ID', 'MMY'])\n",
    "filter_df = filter_df[cols].drop_duplicates()\n",
    "\n",
    "# DETERMINE VEHICLES THAT DON'T MEET SAFETY CRITERIA\n",
    "ruled_out = filter_df[filter_df.OVERALL_STARS < min_stars]\n",
    "print 'RULING OUT:'\n",
    "print ruled_out[['MODEL_YR', 'MAKE', 'MODEL']]\n",
    "\n",
    "filter_df = filter_df[filter_df.OVERALL_STARS >= min_stars]"
   ]
  },
  {
   "cell_type": "code",
   "execution_count": 247,
   "metadata": {},
   "outputs": [
    {
     "name": "stdout",
     "output_type": "stream",
     "text": [
      "      MODEL_YR        MAKE          MODEL\n",
      "2         2018       ACURA            MDX\n",
      "4         2017       ACURA            MDX\n",
      "8         2018       ACURA            RDX\n",
      "10        2017       ACURA            RDX\n",
      "27        2018        AUDI             A3\n",
      "31        2017        AUDI             A3\n",
      "61        2018        AUDI             Q7\n",
      "70        2018        AUDI             S3\n",
      "71        2017        AUDI             S3\n",
      "195       2018         BMW             X5\n",
      "197       2017         BMW             X5\n",
      "420       2018        FORD           EDGE\n",
      "422       2017        FORD           EDGE\n",
      "424       2018        FORD         ESCAPE\n",
      "426       2017        FORD         ESCAPE\n",
      "430       2017        FORD     EXPEDITION\n",
      "431       2017        FORD     EXPEDITION\n",
      "434       2017        FORD  EXPEDITION EL\n",
      "435       2017        FORD  EXPEDITION EL\n",
      "436       2018        FORD       EXPLORER\n",
      "438       2017        FORD       EXPLORER\n",
      "480       2018        FORD          FOCUS\n",
      "482       2017        FORD          FOCUS\n",
      "486       2018        FORD       FOCUS RS\n",
      "487       2017        FORD       FOCUS RS\n",
      "619       2018       HONDA           CR-V\n",
      "621       2017       HONDA           CR-V\n",
      "623       2018       HONDA            FIT\n",
      "624       2017       HONDA            FIT\n",
      "625       2018       HONDA           HR-V\n",
      "...        ...         ...            ...\n",
      "1213      2018      SUBARU      CROSSTREK\n",
      "1214      2017      SUBARU      CROSSTREK\n",
      "1215      2018      SUBARU       FORESTER\n",
      "1216      2017      SUBARU       FORESTER\n",
      "1223      2018      SUBARU        OUTBACK\n",
      "1224      2017      SUBARU        OUTBACK\n",
      "1301      2018  VOLKSWAGEN          ATLAS\n",
      "1309      2018  VOLKSWAGEN           GOLF\n",
      "1310      2017  VOLKSWAGEN           GOLF\n",
      "1311      2018  VOLKSWAGEN       GOLF GTI\n",
      "1312      2017  VOLKSWAGEN       GOLF GTI\n",
      "1313      2017  VOLKSWAGEN       GOLF GTI\n",
      "1314      2018  VOLKSWAGEN         GOLF R\n",
      "1315      2017  VOLKSWAGEN         GOLF R\n",
      "1363      2018       VOLVO        XC90 T5\n",
      "1365      2017       VOLVO        XC90 T5\n",
      "1367      2018       VOLVO        XC90 T6\n",
      "1369      2017       VOLVO        XC90 T6\n",
      "1371      2018       VOLVO        XC90 T8\n",
      "1372      2017       VOLVO        XC90 T8\n",
      "1380      2017         BMW             X3\n",
      "1426      2017     HYUNDAI       VELOSTER\n",
      "1429      2017    INFINITI    QX60 HYBRID\n",
      "1471      2017      NISSAN         MURANO\n",
      "1498      2017       TESLA    MODEL X 60D\n",
      "1499      2017       TESLA    MODEL X 75D\n",
      "1500      2017       TESLA    MODEL X 90D\n",
      "1501      2017       TESLA  MODEL X P100D\n",
      "1502      2017       TESLA   MODEL X P90D\n",
      "1508      2017       VOLVO           XC60\n",
      "\n",
      "[78 rows x 3 columns]\n"
     ]
    }
   ],
   "source": [
    "print filter_df[['MODEL_YR', 'MAKE', 'MODEL']]"
   ]
  },
  {
   "cell_type": "code",
   "execution_count": 252,
   "metadata": {},
   "outputs": [
    {
     "data": {
      "text/html": [
       "<div>\n",
       "<style>\n",
       "    .dataframe thead tr:only-child th {\n",
       "        text-align: right;\n",
       "    }\n",
       "\n",
       "    .dataframe thead th {\n",
       "        text-align: left;\n",
       "    }\n",
       "\n",
       "    .dataframe tbody tr th {\n",
       "        vertical-align: top;\n",
       "    }\n",
       "</style>\n",
       "<table border=\"1\" class=\"dataframe\">\n",
       "  <thead>\n",
       "    <tr style=\"text-align: right;\">\n",
       "      <th></th>\n",
       "      <th>MODEL_YR</th>\n",
       "      <th>MAKE</th>\n",
       "      <th>MODEL</th>\n",
       "      <th>MMY</th>\n",
       "      <th>VEHICLE_ID</th>\n",
       "      <th>OVERALL_STARS</th>\n",
       "      <th>OVERALL_FRNT_STARS</th>\n",
       "      <th>FRNT_DRIV_STARS</th>\n",
       "      <th>FRNT_PASS_STARS</th>\n",
       "      <th>OVERALL_SIDE_STARS</th>\n",
       "      <th>...</th>\n",
       "      <th>SIDE_PASS_STARS</th>\n",
       "      <th>ROLLOVER_STARS</th>\n",
       "      <th>ROLLOVER_STARS_2</th>\n",
       "      <th>SIDE_POLE_STARS</th>\n",
       "      <th>NHTSA_ESC</th>\n",
       "      <th>NHTSA_FRNT_COLLISION_WARNING</th>\n",
       "      <th>NHTSA_LANE_DEPARTURE_WARNING</th>\n",
       "      <th>NHTSA_BACKUP_CAMERA</th>\n",
       "      <th>Unnamed: 0</th>\n",
       "      <th>TYPE</th>\n",
       "    </tr>\n",
       "  </thead>\n",
       "  <tbody>\n",
       "    <tr>\n",
       "      <th>1363</th>\n",
       "      <td>2018</td>\n",
       "      <td>VOLVO</td>\n",
       "      <td>XC90 T5</td>\n",
       "      <td>2018 Volvo XC90 T5 SUV AWD</td>\n",
       "      <td>12066</td>\n",
       "      <td>5</td>\n",
       "      <td>5</td>\n",
       "      <td>5</td>\n",
       "      <td>5</td>\n",
       "      <td>5</td>\n",
       "      <td>...</td>\n",
       "      <td>5</td>\n",
       "      <td>4</td>\n",
       "      <td>Not Rated</td>\n",
       "      <td>5</td>\n",
       "      <td>NaN</td>\n",
       "      <td>Standard</td>\n",
       "      <td>Standard</td>\n",
       "      <td>NaN</td>\n",
       "      <td>459</td>\n",
       "      <td>SUV</td>\n",
       "    </tr>\n",
       "    <tr>\n",
       "      <th>1367</th>\n",
       "      <td>2018</td>\n",
       "      <td>VOLVO</td>\n",
       "      <td>XC90 T6</td>\n",
       "      <td>2018 Volvo XC90 T6 SUV AWD</td>\n",
       "      <td>12067</td>\n",
       "      <td>5</td>\n",
       "      <td>5</td>\n",
       "      <td>5</td>\n",
       "      <td>5</td>\n",
       "      <td>5</td>\n",
       "      <td>...</td>\n",
       "      <td>5</td>\n",
       "      <td>4</td>\n",
       "      <td>Not Rated</td>\n",
       "      <td>5</td>\n",
       "      <td>NaN</td>\n",
       "      <td>Standard</td>\n",
       "      <td>Standard</td>\n",
       "      <td>NaN</td>\n",
       "      <td>460</td>\n",
       "      <td>SUV</td>\n",
       "    </tr>\n",
       "    <tr>\n",
       "      <th>1371</th>\n",
       "      <td>2018</td>\n",
       "      <td>VOLVO</td>\n",
       "      <td>XC90 T8</td>\n",
       "      <td>2018 Volvo XC90 T8 SUV AWD</td>\n",
       "      <td>12069</td>\n",
       "      <td>5</td>\n",
       "      <td>5</td>\n",
       "      <td>5</td>\n",
       "      <td>5</td>\n",
       "      <td>5</td>\n",
       "      <td>...</td>\n",
       "      <td>5</td>\n",
       "      <td>4</td>\n",
       "      <td>Not Rated</td>\n",
       "      <td>5</td>\n",
       "      <td>NaN</td>\n",
       "      <td>NaN</td>\n",
       "      <td>NaN</td>\n",
       "      <td>NaN</td>\n",
       "      <td>461</td>\n",
       "      <td>SUV</td>\n",
       "    </tr>\n",
       "  </tbody>\n",
       "</table>\n",
       "<p>3 rows × 21 columns</p>\n",
       "</div>"
      ],
      "text/plain": [
       "      MODEL_YR   MAKE    MODEL                         MMY  VEHICLE_ID  \\\n",
       "1363      2018  VOLVO  XC90 T5  2018 Volvo XC90 T5 SUV AWD       12066   \n",
       "1367      2018  VOLVO  XC90 T6  2018 Volvo XC90 T6 SUV AWD       12067   \n",
       "1371      2018  VOLVO  XC90 T8  2018 Volvo XC90 T8 SUV AWD       12069   \n",
       "\n",
       "     OVERALL_STARS OVERALL_FRNT_STARS FRNT_DRIV_STARS FRNT_PASS_STARS  \\\n",
       "1363             5                  5               5               5   \n",
       "1367             5                  5               5               5   \n",
       "1371             5                  5               5               5   \n",
       "\n",
       "     OVERALL_SIDE_STARS  ...  SIDE_PASS_STARS ROLLOVER_STARS ROLLOVER_STARS_2  \\\n",
       "1363                  5  ...                5              4        Not Rated   \n",
       "1367                  5  ...                5              4        Not Rated   \n",
       "1371                  5  ...                5              4        Not Rated   \n",
       "\n",
       "     SIDE_POLE_STARS NHTSA_ESC NHTSA_FRNT_COLLISION_WARNING  \\\n",
       "1363               5       NaN                     Standard   \n",
       "1367               5       NaN                     Standard   \n",
       "1371               5       NaN                          NaN   \n",
       "\n",
       "     NHTSA_LANE_DEPARTURE_WARNING NHTSA_BACKUP_CAMERA Unnamed: 0  TYPE  \n",
       "1363                     Standard                 NaN        459   SUV  \n",
       "1367                     Standard                 NaN        460   SUV  \n",
       "1371                          NaN                 NaN        461   SUV  \n",
       "\n",
       "[3 rows x 21 columns]"
      ]
     },
     "execution_count": 252,
     "metadata": {},
     "output_type": "execute_result"
    }
   ],
   "source": [
    "df[(df.MAKE == 'VOLVO') & (df.MODEL_YR == 2018) & (df.TYPE == 'SUV')]"
   ]
  },
  {
   "cell_type": "code",
   "execution_count": 253,
   "metadata": {},
   "outputs": [
    {
     "data": {
      "text/plain": [
       "0         OVERALL_STARS\n",
       "1    OVERALL_FRNT_STARS\n",
       "2       FRNT_DRIV_STARS\n",
       "3       FRNT_PASS_STARS\n",
       "4    OVERALL_SIDE_STARS\n",
       "5       SIDE_DRIV_STARS\n",
       "6       SIDE_PASS_STARS\n",
       "7        ROLLOVER_STARS\n",
       "8      ROLLOVER_STARS_2\n",
       "9       SIDE_POLE_STARS\n",
       "dtype: object"
      ]
     },
     "execution_count": 253,
     "metadata": {},
     "output_type": "execute_result"
    }
   ],
   "source": [
    "stars"
   ]
  },
  {
   "cell_type": "code",
   "execution_count": 256,
   "metadata": {},
   "outputs": [
    {
     "data": {
      "text/plain": [
       "Index([u'MODEL_YR', u'MAKE', u'MODEL', u'MMY', u'VEHICLE_ID', u'OVERALL_STARS',\n",
       "       u'OVERALL_FRNT_STARS', u'FRNT_DRIV_STARS', u'FRNT_PASS_STARS',\n",
       "       u'OVERALL_SIDE_STARS', u'SIDE_DRIV_STARS', u'SIDE_PASS_STARS',\n",
       "       u'ROLLOVER_STARS', u'ROLLOVER_STARS_2', u'SIDE_POLE_STARS',\n",
       "       u'NHTSA_ESC', u'NHTSA_FRNT_COLLISION_WARNING',\n",
       "       u'NHTSA_LANE_DEPARTURE_WARNING', u'NHTSA_BACKUP_CAMERA', u'Unnamed: 0',\n",
       "       u'TYPE'],\n",
       "      dtype='object')"
      ]
     },
     "execution_count": 256,
     "metadata": {},
     "output_type": "execute_result"
    }
   ],
   "source": [
    "df.columns"
   ]
  },
  {
   "cell_type": "code",
   "execution_count": 257,
   "metadata": {},
   "outputs": [
    {
     "data": {
      "text/plain": [
       "10"
      ]
     },
     "execution_count": 257,
     "metadata": {},
     "output_type": "execute_result"
    }
   ],
   "source": [
    "len(stars)"
   ]
  },
  {
   "cell_type": "code",
   "execution_count": null,
   "metadata": {
    "collapsed": true
   },
   "outputs": [],
   "source": []
  }
 ],
 "metadata": {
  "kernelspec": {
   "display_name": "Python 2",
   "language": "python",
   "name": "python2"
  },
  "language_info": {
   "codemirror_mode": {
    "name": "ipython",
    "version": 2
   },
   "file_extension": ".py",
   "mimetype": "text/x-python",
   "name": "python",
   "nbconvert_exporter": "python",
   "pygments_lexer": "ipython2",
   "version": "2.7.13"
  }
 },
 "nbformat": 4,
 "nbformat_minor": 2
}
